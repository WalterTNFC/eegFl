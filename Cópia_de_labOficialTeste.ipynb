{
  "nbformat": 4,
  "nbformat_minor": 0,
  "metadata": {
    "colab": {
      "provenance": []
    },
    "kernelspec": {
      "name": "python3",
      "display_name": "Python 3"
    },
    "language_info": {
      "name": "python"
    }
  },
  "cells": [
    {
      "cell_type": "code",
      "execution_count": 1,
      "metadata": {
        "id": "oVAYb7LBqz18",
        "colab": {
          "base_uri": "https://localhost:8080/"
        },
        "outputId": "f54a65e8-28d5-4064-abef-ed1cffbae810"
      },
      "outputs": [
        {
          "output_type": "stream",
          "name": "stdout",
          "text": [
            "Requirement already satisfied: braindecode in /usr/local/lib/python3.10/dist-packages (0.8.1)\n",
            "Requirement already satisfied: moabb in /usr/local/lib/python3.10/dist-packages (1.1.1)\n",
            "Requirement already satisfied: ray in /usr/local/lib/python3.10/dist-packages (2.10.0)\n",
            "Requirement already satisfied: mne in /usr/local/lib/python3.10/dist-packages (from braindecode) (1.8.0)\n",
            "Requirement already satisfied: numpy in /usr/local/lib/python3.10/dist-packages (from braindecode) (1.26.4)\n",
            "Requirement already satisfied: pandas in /usr/local/lib/python3.10/dist-packages (from braindecode) (1.5.3)\n",
            "Requirement already satisfied: scipy in /usr/local/lib/python3.10/dist-packages (from braindecode) (1.13.1)\n",
            "Requirement already satisfied: matplotlib in /usr/local/lib/python3.10/dist-packages (from braindecode) (3.8.0)\n",
            "Requirement already satisfied: h5py in /usr/local/lib/python3.10/dist-packages (from braindecode) (3.12.1)\n",
            "Requirement already satisfied: skorch in /usr/local/lib/python3.10/dist-packages (from braindecode) (1.0.0)\n",
            "Requirement already satisfied: torch in /usr/local/lib/python3.10/dist-packages (from braindecode) (2.5.1+cu121)\n",
            "Requirement already satisfied: einops in /usr/local/lib/python3.10/dist-packages (from braindecode) (0.8.0)\n",
            "Requirement already satisfied: joblib in /usr/local/lib/python3.10/dist-packages (from braindecode) (1.4.2)\n",
            "Requirement already satisfied: torchinfo in /usr/local/lib/python3.10/dist-packages (from braindecode) (1.8.0)\n",
            "Requirement already satisfied: docstring-inheritance in /usr/local/lib/python3.10/dist-packages (from braindecode) (2.2.1)\n",
            "Requirement already satisfied: PyYAML<7.0,>=6.0 in /usr/local/lib/python3.10/dist-packages (from moabb) (6.0.2)\n",
            "Requirement already satisfied: coverage<8.0.0,>=7.0.1 in /usr/local/lib/python3.10/dist-packages (from moabb) (7.6.7)\n",
            "Requirement already satisfied: edfio<0.5.0,>=0.4.2 in /usr/local/lib/python3.10/dist-packages (from moabb) (0.4.5)\n",
            "Requirement already satisfied: edflib-python<2.0.0,>=1.0.6 in /usr/local/lib/python3.10/dist-packages (from moabb) (1.0.8)\n",
            "Requirement already satisfied: memory-profiler<0.62.0,>=0.61.0 in /usr/local/lib/python3.10/dist-packages (from moabb) (0.61.0)\n",
            "Requirement already satisfied: mne-bids<0.15,>=0.14 in /usr/local/lib/python3.10/dist-packages (from moabb) (0.14)\n",
            "Requirement already satisfied: pooch<2.0.0,>=1.6.0 in /usr/local/lib/python3.10/dist-packages (from moabb) (1.8.2)\n",
            "Requirement already satisfied: pyriemann<0.7,>=0.6 in /usr/local/lib/python3.10/dist-packages (from moabb) (0.6)\n",
            "Requirement already satisfied: pytest<8.0.0,>=7.4.0 in /usr/local/lib/python3.10/dist-packages (from moabb) (7.4.4)\n",
            "Requirement already satisfied: requests<3.0.0,>=2.28.1 in /usr/local/lib/python3.10/dist-packages (from moabb) (2.32.3)\n",
            "Requirement already satisfied: scikit-learn>=1.4.2 in /usr/local/lib/python3.10/dist-packages (from moabb) (1.5.2)\n",
            "Requirement already satisfied: seaborn<0.13.0,>=0.12.1 in /usr/local/lib/python3.10/dist-packages (from moabb) (0.12.2)\n",
            "Requirement already satisfied: tqdm<5.0.0,>=4.64.1 in /usr/local/lib/python3.10/dist-packages (from moabb) (4.66.6)\n",
            "Requirement already satisfied: urllib3<2.0.0,>=1.26.15 in /usr/local/lib/python3.10/dist-packages (from moabb) (1.26.20)\n",
            "Requirement already satisfied: click>=7.0 in /usr/local/lib/python3.10/dist-packages (from ray) (8.1.7)\n",
            "Requirement already satisfied: filelock in /usr/local/lib/python3.10/dist-packages (from ray) (3.16.1)\n",
            "Requirement already satisfied: jsonschema in /usr/local/lib/python3.10/dist-packages (from ray) (4.23.0)\n",
            "Requirement already satisfied: msgpack<2.0.0,>=1.0.0 in /usr/local/lib/python3.10/dist-packages (from ray) (1.1.0)\n",
            "Requirement already satisfied: packaging in /usr/local/lib/python3.10/dist-packages (from ray) (24.2)\n",
            "Requirement already satisfied: protobuf!=3.19.5,>=3.15.3 in /usr/local/lib/python3.10/dist-packages (from ray) (4.25.5)\n",
            "Requirement already satisfied: aiosignal in /usr/local/lib/python3.10/dist-packages (from ray) (1.3.1)\n",
            "Requirement already satisfied: frozenlist in /usr/local/lib/python3.10/dist-packages (from ray) (1.5.0)\n",
            "Requirement already satisfied: contourpy>=1.0.1 in /usr/local/lib/python3.10/dist-packages (from matplotlib->braindecode) (1.3.1)\n",
            "Requirement already satisfied: cycler>=0.10 in /usr/local/lib/python3.10/dist-packages (from matplotlib->braindecode) (0.12.1)\n",
            "Requirement already satisfied: fonttools>=4.22.0 in /usr/local/lib/python3.10/dist-packages (from matplotlib->braindecode) (4.54.1)\n",
            "Requirement already satisfied: kiwisolver>=1.0.1 in /usr/local/lib/python3.10/dist-packages (from matplotlib->braindecode) (1.4.7)\n",
            "Requirement already satisfied: pillow>=6.2.0 in /usr/local/lib/python3.10/dist-packages (from matplotlib->braindecode) (11.0.0)\n",
            "Requirement already satisfied: pyparsing>=2.3.1 in /usr/local/lib/python3.10/dist-packages (from matplotlib->braindecode) (3.2.0)\n",
            "Requirement already satisfied: python-dateutil>=2.7 in /usr/local/lib/python3.10/dist-packages (from matplotlib->braindecode) (2.8.2)\n",
            "Requirement already satisfied: psutil in /usr/local/lib/python3.10/dist-packages (from memory-profiler<0.62.0,>=0.61.0->moabb) (5.9.5)\n",
            "Requirement already satisfied: decorator in /usr/local/lib/python3.10/dist-packages (from mne->braindecode) (4.4.2)\n",
            "Requirement already satisfied: jinja2 in /usr/local/lib/python3.10/dist-packages (from mne->braindecode) (3.1.4)\n",
            "Requirement already satisfied: lazy-loader>=0.3 in /usr/local/lib/python3.10/dist-packages (from mne->braindecode) (0.4)\n",
            "Requirement already satisfied: pytz>=2020.1 in /usr/local/lib/python3.10/dist-packages (from pandas->braindecode) (2024.2)\n",
            "Requirement already satisfied: platformdirs>=2.5.0 in /usr/local/lib/python3.10/dist-packages (from pooch<2.0.0,>=1.6.0->moabb) (4.3.6)\n",
            "Requirement already satisfied: iniconfig in /usr/local/lib/python3.10/dist-packages (from pytest<8.0.0,>=7.4.0->moabb) (2.0.0)\n",
            "Requirement already satisfied: pluggy<2.0,>=0.12 in /usr/local/lib/python3.10/dist-packages (from pytest<8.0.0,>=7.4.0->moabb) (1.5.0)\n",
            "Requirement already satisfied: exceptiongroup>=1.0.0rc8 in /usr/local/lib/python3.10/dist-packages (from pytest<8.0.0,>=7.4.0->moabb) (1.2.2)\n",
            "Requirement already satisfied: tomli>=1.0.0 in /usr/local/lib/python3.10/dist-packages (from pytest<8.0.0,>=7.4.0->moabb) (2.1.0)\n",
            "Requirement already satisfied: charset-normalizer<4,>=2 in /usr/local/lib/python3.10/dist-packages (from requests<3.0.0,>=2.28.1->moabb) (3.4.0)\n",
            "Requirement already satisfied: idna<4,>=2.5 in /usr/local/lib/python3.10/dist-packages (from requests<3.0.0,>=2.28.1->moabb) (3.10)\n",
            "Requirement already satisfied: certifi>=2017.4.17 in /usr/local/lib/python3.10/dist-packages (from requests<3.0.0,>=2.28.1->moabb) (2024.8.30)\n",
            "Requirement already satisfied: threadpoolctl>=3.1.0 in /usr/local/lib/python3.10/dist-packages (from scikit-learn>=1.4.2->moabb) (3.5.0)\n",
            "Requirement already satisfied: attrs>=22.2.0 in /usr/local/lib/python3.10/dist-packages (from jsonschema->ray) (24.2.0)\n",
            "Requirement already satisfied: jsonschema-specifications>=2023.03.6 in /usr/local/lib/python3.10/dist-packages (from jsonschema->ray) (2024.10.1)\n",
            "Requirement already satisfied: referencing>=0.28.4 in /usr/local/lib/python3.10/dist-packages (from jsonschema->ray) (0.35.1)\n",
            "Requirement already satisfied: rpds-py>=0.7.1 in /usr/local/lib/python3.10/dist-packages (from jsonschema->ray) (0.21.0)\n",
            "Requirement already satisfied: tabulate>=0.7.7 in /usr/local/lib/python3.10/dist-packages (from skorch->braindecode) (0.9.0)\n",
            "Requirement already satisfied: typing-extensions>=4.8.0 in /usr/local/lib/python3.10/dist-packages (from torch->braindecode) (4.12.2)\n",
            "Requirement already satisfied: networkx in /usr/local/lib/python3.10/dist-packages (from torch->braindecode) (3.4.2)\n",
            "Requirement already satisfied: fsspec in /usr/local/lib/python3.10/dist-packages (from torch->braindecode) (2024.10.0)\n",
            "Requirement already satisfied: sympy==1.13.1 in /usr/local/lib/python3.10/dist-packages (from torch->braindecode) (1.13.1)\n",
            "Requirement already satisfied: mpmath<1.4,>=1.1.0 in /usr/local/lib/python3.10/dist-packages (from sympy==1.13.1->torch->braindecode) (1.3.0)\n",
            "Requirement already satisfied: six>=1.5 in /usr/local/lib/python3.10/dist-packages (from python-dateutil>=2.7->matplotlib->braindecode) (1.16.0)\n",
            "Requirement already satisfied: MarkupSafe>=2.0 in /usr/local/lib/python3.10/dist-packages (from jinja2->mne->braindecode) (3.0.2)\n",
            "Requirement already satisfied: flwr[simulation] in /usr/local/lib/python3.10/dist-packages (1.12.0)\n",
            "Requirement already satisfied: cryptography<43.0.0,>=42.0.4 in /usr/local/lib/python3.10/dist-packages (from flwr[simulation]) (42.0.8)\n",
            "Requirement already satisfied: grpcio!=1.64.2,!=1.65.1,!=1.65.2,!=1.65.4,!=1.65.5,!=1.66.0,!=1.66.1,<2.0.0,>=1.60.0 in /usr/local/lib/python3.10/dist-packages (from flwr[simulation]) (1.67.1)\n",
            "Requirement already satisfied: iterators<0.0.3,>=0.0.2 in /usr/local/lib/python3.10/dist-packages (from flwr[simulation]) (0.0.2)\n",
            "Requirement already satisfied: numpy<2.0.0,>=1.21.0 in /usr/local/lib/python3.10/dist-packages (from flwr[simulation]) (1.26.4)\n",
            "Requirement already satisfied: pathspec<0.13.0,>=0.12.1 in /usr/local/lib/python3.10/dist-packages (from flwr[simulation]) (0.12.1)\n",
            "Requirement already satisfied: protobuf<5.0.0,>=4.25.2 in /usr/local/lib/python3.10/dist-packages (from flwr[simulation]) (4.25.5)\n",
            "Requirement already satisfied: pycryptodome<4.0.0,>=3.18.0 in /usr/local/lib/python3.10/dist-packages (from flwr[simulation]) (3.21.0)\n",
            "Requirement already satisfied: tomli<3.0.0,>=2.0.1 in /usr/local/lib/python3.10/dist-packages (from flwr[simulation]) (2.1.0)\n",
            "Requirement already satisfied: tomli-w<2.0.0,>=1.0.0 in /usr/local/lib/python3.10/dist-packages (from flwr[simulation]) (1.1.0)\n",
            "Requirement already satisfied: typer<0.13.0,>=0.12.5 in /usr/local/lib/python3.10/dist-packages (from flwr[simulation]) (0.12.5)\n",
            "Requirement already satisfied: ray==2.10.0 in /usr/local/lib/python3.10/dist-packages (from flwr[simulation]) (2.10.0)\n",
            "Requirement already satisfied: click>=7.0 in /usr/local/lib/python3.10/dist-packages (from ray==2.10.0->flwr[simulation]) (8.1.7)\n",
            "Requirement already satisfied: filelock in /usr/local/lib/python3.10/dist-packages (from ray==2.10.0->flwr[simulation]) (3.16.1)\n",
            "Requirement already satisfied: jsonschema in /usr/local/lib/python3.10/dist-packages (from ray==2.10.0->flwr[simulation]) (4.23.0)\n",
            "Requirement already satisfied: msgpack<2.0.0,>=1.0.0 in /usr/local/lib/python3.10/dist-packages (from ray==2.10.0->flwr[simulation]) (1.1.0)\n",
            "Requirement already satisfied: packaging in /usr/local/lib/python3.10/dist-packages (from ray==2.10.0->flwr[simulation]) (24.2)\n",
            "Requirement already satisfied: pyyaml in /usr/local/lib/python3.10/dist-packages (from ray==2.10.0->flwr[simulation]) (6.0.2)\n",
            "Requirement already satisfied: aiosignal in /usr/local/lib/python3.10/dist-packages (from ray==2.10.0->flwr[simulation]) (1.3.1)\n",
            "Requirement already satisfied: frozenlist in /usr/local/lib/python3.10/dist-packages (from ray==2.10.0->flwr[simulation]) (1.5.0)\n",
            "Requirement already satisfied: requests in /usr/local/lib/python3.10/dist-packages (from ray==2.10.0->flwr[simulation]) (2.32.3)\n",
            "Requirement already satisfied: cffi>=1.12 in /usr/local/lib/python3.10/dist-packages (from cryptography<43.0.0,>=42.0.4->flwr[simulation]) (1.17.1)\n",
            "Requirement already satisfied: typing-extensions>=3.7.4.3 in /usr/local/lib/python3.10/dist-packages (from typer<0.13.0,>=0.12.5->flwr[simulation]) (4.12.2)\n",
            "Requirement already satisfied: shellingham>=1.3.0 in /usr/local/lib/python3.10/dist-packages (from typer<0.13.0,>=0.12.5->flwr[simulation]) (1.5.4)\n",
            "Requirement already satisfied: rich>=10.11.0 in /usr/local/lib/python3.10/dist-packages (from typer<0.13.0,>=0.12.5->flwr[simulation]) (13.9.4)\n",
            "Requirement already satisfied: pycparser in /usr/local/lib/python3.10/dist-packages (from cffi>=1.12->cryptography<43.0.0,>=42.0.4->flwr[simulation]) (2.22)\n",
            "Requirement already satisfied: markdown-it-py>=2.2.0 in /usr/local/lib/python3.10/dist-packages (from rich>=10.11.0->typer<0.13.0,>=0.12.5->flwr[simulation]) (3.0.0)\n",
            "Requirement already satisfied: pygments<3.0.0,>=2.13.0 in /usr/local/lib/python3.10/dist-packages (from rich>=10.11.0->typer<0.13.0,>=0.12.5->flwr[simulation]) (2.18.0)\n",
            "Requirement already satisfied: attrs>=22.2.0 in /usr/local/lib/python3.10/dist-packages (from jsonschema->ray==2.10.0->flwr[simulation]) (24.2.0)\n",
            "Requirement already satisfied: jsonschema-specifications>=2023.03.6 in /usr/local/lib/python3.10/dist-packages (from jsonschema->ray==2.10.0->flwr[simulation]) (2024.10.1)\n",
            "Requirement already satisfied: referencing>=0.28.4 in /usr/local/lib/python3.10/dist-packages (from jsonschema->ray==2.10.0->flwr[simulation]) (0.35.1)\n",
            "Requirement already satisfied: rpds-py>=0.7.1 in /usr/local/lib/python3.10/dist-packages (from jsonschema->ray==2.10.0->flwr[simulation]) (0.21.0)\n",
            "Requirement already satisfied: charset-normalizer<4,>=2 in /usr/local/lib/python3.10/dist-packages (from requests->ray==2.10.0->flwr[simulation]) (3.4.0)\n",
            "Requirement already satisfied: idna<4,>=2.5 in /usr/local/lib/python3.10/dist-packages (from requests->ray==2.10.0->flwr[simulation]) (3.10)\n",
            "Requirement already satisfied: urllib3<3,>=1.21.1 in /usr/local/lib/python3.10/dist-packages (from requests->ray==2.10.0->flwr[simulation]) (1.26.20)\n",
            "Requirement already satisfied: certifi>=2017.4.17 in /usr/local/lib/python3.10/dist-packages (from requests->ray==2.10.0->flwr[simulation]) (2024.8.30)\n",
            "Requirement already satisfied: mdurl~=0.1 in /usr/local/lib/python3.10/dist-packages (from markdown-it-py>=2.2.0->rich>=10.11.0->typer<0.13.0,>=0.12.5->flwr[simulation]) (0.1.2)\n"
          ]
        }
      ],
      "source": [
        "!pip install braindecode moabb ray\n",
        "!pip install -U \"flwr[simulation]\""
      ]
    },
    {
      "cell_type": "code",
      "source": [
        "from braindecode.datasets import MOABBDataset\n",
        "from sklearn.model_selection import train_test_split\n"
      ],
      "metadata": {
        "id": "7q2eD_PUrMyc"
      },
      "execution_count": 2,
      "outputs": []
    },
    {
      "cell_type": "markdown",
      "source": [
        "## Loanding dataset"
      ],
      "metadata": {
        "id": "Qk6O3Wo6rUyM"
      }
    },
    {
      "cell_type": "code",
      "source": [
        "import numpy as np\n",
        "from braindecode.preprocessing import (\n",
        "    exponential_moving_standardize,\n",
        "    preprocess,\n",
        "    Preprocessor,\n",
        ")\n",
        "\n",
        "# Carregar o dataset\n",
        "subject_id = 3\n",
        "dataset = MOABBDataset(dataset_name=\"BNCI2014_001\", subject_ids=[subject_id])\n",
        "\n",
        "# Dividir o dataset em 5 partes manualmente\n",
        "num_parts = 5\n",
        "part_size = len(dataset.datasets) // num_parts\n",
        "dataset_parts = []\n",
        "\n",
        "# Separar manualmente os dados e recriar subconjuntos como novos datasets\n",
        "for i in range(num_parts):\n",
        "    start = i * part_size\n",
        "    end = (i + 1) * part_size if i < num_parts - 1 else len(dataset.datasets)\n",
        "    subset = dataset.datasets[start:end]\n",
        "    dataset_parts.append(subset)\n",
        "\n",
        "# Definir diferentes conjuntos de parâmetros para cada parte\n",
        "param_sets = [\n",
        "    {\"low_cut_hz\": 4.0, \"high_cut_hz\": 30.0, \"factor_new\": 1e-3, \"init_block_size\": 1000},\n",
        "    {\"low_cut_hz\": 5.0, \"high_cut_hz\": 35.0, \"factor_new\": 5e-4, \"init_block_size\": 1200},\n",
        "    {\"low_cut_hz\": 3.5, \"high_cut_hz\": 28.0, \"factor_new\": 2e-3, \"init_block_size\": 900},\n",
        "    {\"low_cut_hz\": 6.0, \"high_cut_hz\": 40.0, \"factor_new\": 1e-4, \"init_block_size\": 1500},\n",
        "    {\"low_cut_hz\": 4.5, \"high_cut_hz\": 32.0, \"factor_new\": 1e-3, \"init_block_size\": 1100},\n",
        "]\n",
        "\n",
        "# Lista para armazenar os datasets processados\n",
        "processed_datasets = []\n",
        "\n",
        "# Aplicar os preprocessadores a cada subconjunto com parâmetros específicos\n",
        "for i, (subset, params) in enumerate(zip(dataset_parts, param_sets)):\n",
        "    preprocessors = [\n",
        "        Preprocessor(\"pick_types\", eeg=True, meg=False, stim=False),\n",
        "        Preprocessor(lambda data, factor: np.multiply(data, factor), factor=1e6),\n",
        "        Preprocessor(\"filter\", l_freq=params[\"low_cut_hz\"], h_freq=params[\"high_cut_hz\"]),\n",
        "        Preprocessor(exponential_moving_standardize, factor_new=params[\"factor_new\"], init_block_size=params[\"init_block_size\"]),\n",
        "    ]\n",
        "\n",
        "    # Criar um novo dataset a partir do subconjunto\n",
        "    new_dataset = MOABBDataset(dataset_name=\"BNCI2014_001\", subject_ids=[subject_id])\n",
        "    new_dataset.datasets = subset  # Atribuir subconjunto ao novo dataset\n",
        "\n",
        "    # Preprocessar o novo dataset de forma independente\n",
        "    preprocess(new_dataset, preprocessors, n_jobs=-1)\n",
        "    print(f\"Preprocessamento concluído para o subconjunto {i+1} com parâmetros: {params}\")\n",
        "\n",
        "    # Armazenar o dataset processado na lista\n",
        "    processed_datasets.append(new_dataset)\n",
        "\n",
        "# Agora `processed_datasets` contém os cinco datasets preprocessados\n"
      ],
      "metadata": {
        "colab": {
          "base_uri": "https://localhost:8080/"
        },
        "id": "8eklm_Yxz1Nd",
        "outputId": "aaabcda3-3eeb-485c-a98b-632559e3b283"
      },
      "execution_count": 3,
      "outputs": [
        {
          "output_type": "stream",
          "name": "stderr",
          "text": [
            "/usr/local/lib/python3.10/dist-packages/braindecode/preprocessing/preprocess.py:55: UserWarning: Preprocessing choices with lambda functions cannot be saved.\n",
            "  warn('Preprocessing choices with lambda functions cannot be saved.')\n"
          ]
        },
        {
          "output_type": "stream",
          "name": "stdout",
          "text": [
            "Preprocessamento concluído para o subconjunto 1 com parâmetros: {'low_cut_hz': 4.0, 'high_cut_hz': 30.0, 'factor_new': 0.001, 'init_block_size': 1000}\n"
          ]
        },
        {
          "output_type": "stream",
          "name": "stderr",
          "text": [
            "/usr/local/lib/python3.10/dist-packages/braindecode/preprocessing/preprocess.py:55: UserWarning: Preprocessing choices with lambda functions cannot be saved.\n",
            "  warn('Preprocessing choices with lambda functions cannot be saved.')\n"
          ]
        },
        {
          "output_type": "stream",
          "name": "stdout",
          "text": [
            "Preprocessamento concluído para o subconjunto 2 com parâmetros: {'low_cut_hz': 5.0, 'high_cut_hz': 35.0, 'factor_new': 0.0005, 'init_block_size': 1200}\n"
          ]
        },
        {
          "output_type": "stream",
          "name": "stderr",
          "text": [
            "/usr/local/lib/python3.10/dist-packages/braindecode/preprocessing/preprocess.py:55: UserWarning: Preprocessing choices with lambda functions cannot be saved.\n",
            "  warn('Preprocessing choices with lambda functions cannot be saved.')\n"
          ]
        },
        {
          "output_type": "stream",
          "name": "stdout",
          "text": [
            "Preprocessamento concluído para o subconjunto 3 com parâmetros: {'low_cut_hz': 3.5, 'high_cut_hz': 28.0, 'factor_new': 0.002, 'init_block_size': 900}\n"
          ]
        },
        {
          "output_type": "stream",
          "name": "stderr",
          "text": [
            "/usr/local/lib/python3.10/dist-packages/braindecode/preprocessing/preprocess.py:55: UserWarning: Preprocessing choices with lambda functions cannot be saved.\n",
            "  warn('Preprocessing choices with lambda functions cannot be saved.')\n"
          ]
        },
        {
          "output_type": "stream",
          "name": "stdout",
          "text": [
            "Preprocessamento concluído para o subconjunto 4 com parâmetros: {'low_cut_hz': 6.0, 'high_cut_hz': 40.0, 'factor_new': 0.0001, 'init_block_size': 1500}\n"
          ]
        },
        {
          "output_type": "stream",
          "name": "stderr",
          "text": [
            "/usr/local/lib/python3.10/dist-packages/braindecode/preprocessing/preprocess.py:55: UserWarning: Preprocessing choices with lambda functions cannot be saved.\n",
            "  warn('Preprocessing choices with lambda functions cannot be saved.')\n"
          ]
        },
        {
          "output_type": "stream",
          "name": "stdout",
          "text": [
            "Preprocessamento concluído para o subconjunto 5 com parâmetros: {'low_cut_hz': 4.5, 'high_cut_hz': 32.0, 'factor_new': 0.001, 'init_block_size': 1100}\n"
          ]
        }
      ]
    },
    {
      "cell_type": "code",
      "source": [
        "from braindecode.preprocessing import create_windows_from_events\n",
        "\n",
        "def extractionWindow(dataset):\n",
        "  trial_start_offset_seconds = -0.5\n",
        "  # Extract sampling frequency, check that they are same in all datasets\n",
        "  sfreq = dataset.datasets[0].raw.info[\"sfreq\"]\n",
        "  assert all([ds.raw.info[\"sfreq\"] == sfreq for ds in dataset.datasets])\n",
        "  # Calculate the window start offset in samples.\n",
        "  trial_start_offset_samples = int(trial_start_offset_seconds * sfreq)\n",
        "\n",
        "  # Create windows using braindecode function for this. It needs parameters to\n",
        "  # define how windows should be used.\n",
        "  windows_dataset = create_windows_from_events(\n",
        "      dataset,\n",
        "      trial_start_offset_samples=trial_start_offset_samples,\n",
        "      trial_stop_offset_samples=0,\n",
        "      preload=True,\n",
        "  )\n",
        "\n",
        "\n",
        "  return windows_dataset"
      ],
      "metadata": {
        "id": "sew1sptA5hD4"
      },
      "execution_count": 4,
      "outputs": []
    },
    {
      "cell_type": "code",
      "source": [
        "def split_windows_dataset(windows_dataset):\n",
        "  splitted = windows_dataset.split(\"session\")\n",
        "  print(splitted)\n",
        "  if('0train' in splitted):\n",
        "    return splitted['0train']  # Session train\n",
        "  else:\n",
        "    return splitted['1test']\n",
        "  #test_ set = splitted['1test']  # Session evaluation\n",
        "  # return train_set"
      ],
      "metadata": {
        "id": "FiapaUYChKQy"
      },
      "execution_count": 5,
      "outputs": []
    },
    {
      "cell_type": "markdown",
      "source": [
        "## Criação de modelo"
      ],
      "metadata": {
        "id": "rGjU7ex8CcKp"
      }
    },
    {
      "cell_type": "code",
      "source": [
        "from braindecode.util import set_random_seeds\n",
        "from braindecode.models import ShallowFBCSPNet\n",
        "\n",
        "def create_model(shape):\n",
        "  print('Entrou na função model')\n",
        "  seed = 20200220\n",
        "\n",
        "  n_classes = 4\n",
        "  classes = list(range(n_classes))\n",
        "  # Extract number of chans and time steps from dataset\n",
        "  n_channels = shape[0]\n",
        "  input_window_samples = shape[1]\n",
        "\n",
        "  model = ShallowFBCSPNet(\n",
        "      n_channels,\n",
        "      n_classes,\n",
        "      input_window_samples=input_window_samples,\n",
        "      final_conv_length=\"auto\",\n",
        "  )\n",
        "\n",
        "  return model\n"
      ],
      "metadata": {
        "id": "HME4nxjY7ubp"
      },
      "execution_count": 6,
      "outputs": []
    },
    {
      "cell_type": "code",
      "source": [
        "import flwr as fl"
      ],
      "metadata": {
        "id": "rcGNbgNfHGkh"
      },
      "execution_count": 7,
      "outputs": []
    },
    {
      "cell_type": "code",
      "source": [
        "def get_client_dataset(node_id):\n",
        "    \"\"\"Função que mapeia o node_id do cliente ao seu dataset correspondente\"\"\"\n",
        "    client_datasets = {\n",
        "        0: processed_datasets[0],\n",
        "        1: processed_datasets[1],\n",
        "        2: processed_datasets[2],\n",
        "        3: processed_datasets[3],\n",
        "        4: processed_datasets[4]\n",
        "    }\n",
        "    return client_datasets.get(node_id)"
      ],
      "metadata": {
        "colab": {
          "base_uri": "https://localhost:8080/"
        },
        "id": "B2Hi4bRH1kpE",
        "outputId": "76e54df7-58ab-46e8-a9b6-aac3302b0659"
      },
      "execution_count": 8,
      "outputs": [
        {
          "output_type": "stream",
          "name": "stderr",
          "text": [
            "/usr/local/lib/python3.10/dist-packages/ipykernel/ipkernel.py:283: DeprecationWarning: `should_run_async` will not call `transform_cell` automatically in the future. Please pass the result to `transformed_cell` argument and any exception that happen during thetransform in `preprocessing_exc_tuple` in IPython 7.17 and above.\n",
            "  and should_run_async(code)\n"
          ]
        }
      ]
    },
    {
      "cell_type": "code",
      "source": [
        "def numpyclient_fn(context, message=None):\n",
        "    # Usando a função de mapeamento para pegar os dados baseados no node_id do context\n",
        "    client_id = context.node_config[\"partition-id\"]\n",
        "    print('Esse é o client id:', client_id)\n",
        "    dataset_to_use = get_client_dataset(client_id)\n",
        "    if dataset_to_use is None:\n",
        "        raise ValueError(f\"Dataset não encontrado para o cliente {context.node_id}\")\n",
        "\n",
        "    windows_dataset = extractionWindow(dataset_to_use)\n",
        "    print('Saiu da função window')\n",
        "    model = create_model(windows_dataset[0][0].shape)\n",
        "    print('Saiu da função model')\n",
        "    # Continua a configuração do cliente\n",
        "    client = FlowerNumPyClient(model, windows_dataset)\n",
        "    return client.to_client()"
      ],
      "metadata": {
        "id": "rJCKOmcfCnZ3"
      },
      "execution_count": 9,
      "outputs": []
    },
    {
      "cell_type": "code",
      "source": [],
      "metadata": {
        "id": "kIArLJDWAatz"
      },
      "execution_count": 9,
      "outputs": []
    },
    {
      "cell_type": "code",
      "source": [
        "from collections import OrderedDict\n",
        "import torch\n",
        "\n",
        "def get_parameters(model):\n",
        "    return [val.cpu().numpy() for _, val in model.state_dict().items()]\n",
        "\n",
        "\n",
        "def set_parameters(model, parameters):\n",
        "    params_dict = zip(model.state_dict().keys(), parameters)\n",
        "    # Ordenar o dict de acordo com os pesos\n",
        "    state_dict = OrderedDict({k: torch.Tensor(v) for k, v in params_dict})\n",
        "    model.load_state_dict(state_dict, strict=True)"
      ],
      "metadata": {
        "id": "O0vs8pivIyVc"
      },
      "execution_count": 10,
      "outputs": []
    },
    {
      "cell_type": "code",
      "source": [
        "from skorch.callbacks import LRScheduler\n",
        "from braindecode import EEGClassifier\n",
        "\n",
        "class FlowerNumPyClient(fl.client.NumPyClient):\n",
        "    def __init__(self,model, windows_dataset):\n",
        "        lr = 0.0625 * 0.01\n",
        "        weight_decay = 0\n",
        "        batch_size = 64\n",
        "        n_epochs = 2\n",
        "\n",
        "        self.model = model\n",
        "        self.window = windows_dataset\n",
        "        self.train_set = split_windows_dataset(self.window)\n",
        "        print('Vai iniciar o classificador')\n",
        "        self.clf = EEGClassifier(\n",
        "            self.model,\n",
        "            criterion=torch.nn.NLLLoss,\n",
        "            optimizer=torch.optim.AdamW,\n",
        "            train_split=None,\n",
        "            optimizer__lr=lr,\n",
        "            optimizer__weight_decay=weight_decay,\n",
        "            batch_size=batch_size,\n",
        "            callbacks=[\n",
        "                \"accuracy\",\n",
        "                (\"lr_scheduler\", LRScheduler(\"CosineAnnealingLR\", T_max=n_epochs - 1)),\n",
        "            ],\n",
        "            device='cpu',\n",
        "            # 4 classes no dataset\n",
        "            classes=list(range(4)),\n",
        "            max_epochs=n_epochs,\n",
        "        )\n",
        "        print('Saiu do classificador')\n",
        "\n",
        "    def get_parameters(self, config):\n",
        "        print('Get parameters')\n",
        "        return get_parameters(self.model)\n",
        "\n",
        "    def set_weights(self, net, parameters):\n",
        "      params_dict = zip(net.state_dict().keys(), parameters)\n",
        "      state_dict = OrderedDict({k: torch.tensor(v) for k, v in params_dict})\n",
        "      net.load_state_dict(state_dict, strict=True)\n",
        "\n",
        "    # treinamento\n",
        "    def fit(self, parameters, config):\n",
        "        print('Inicia o fit')\n",
        "        self.set_weights(self.model, parameters)\n",
        "        lr = 0.0625 * 0.01\n",
        "        weight_decay = 0\n",
        "        batch_size = 64\n",
        "        n_epochs = 2\n",
        "\n",
        "        print('Iniciando a classificação')\n",
        "\n",
        "        self.clf = EEGClassifier(\n",
        "            self.model,\n",
        "            criterion=torch.nn.NLLLoss,\n",
        "            optimizer=torch.optim.AdamW,\n",
        "            train_split=None,\n",
        "            optimizer__lr=lr,\n",
        "            optimizer__weight_decay=weight_decay,\n",
        "            batch_size=batch_size,\n",
        "            callbacks=[\n",
        "                \"accuracy\",\n",
        "                (\"lr_scheduler\", LRScheduler(\"CosineAnnealingLR\", T_max=n_epochs - 1)),\n",
        "            ],\n",
        "            device='cpu',\n",
        "            # 4 classes no dataset\n",
        "            classes=list(range(4)),\n",
        "            max_epochs=n_epochs,\n",
        "        )\n",
        "        # Model training for a specified number of epochs. `y` is None as it is already supplied\n",
        "        # in the dataset.\n",
        "\n",
        "        print('iniciando o fit!!!!!!!!!!!')\n",
        "        # self.clf.fit(self.train_set, y=None)\n",
        "\n",
        "\n",
        "        return self.get_parameters(self.model), len(self.window ), {}\n",
        "\n",
        "    # Avaliação\n",
        "    def evaluate(self, parameters, config):\n",
        "        # print(f\"[Client evaluate, config: {config}\")\n",
        "        # set_parameters(self.model, parameters)\n",
        "        # y_test = self.train_set.get_metadata().target\n",
        "        # test_acc = self.clf.score(self.train_set, y=y_test)\n",
        "        # print(f\"Test acc: {(test_acc * 100):.2f}%\")\n",
        "        # depois calcular o loss\n",
        "\n",
        "        # evaluated t.he model after training\n",
        "        self.clf.fit(self.train_set, y=None)\n",
        "        y_test = self.train_set.get_metadata().target\n",
        "        test_acc = self.clf.score(self.train_set, y=y_test)\n",
        "        print(f\"Test acc: {(test_acc * 100):.2f}%\")\n",
        "\n",
        "        return float(test_acc), len(self.train_set), {\"accuracy\": float(test_acc)}"
      ],
      "metadata": {
        "id": "tT6az8quJNs7"
      },
      "execution_count": 14,
      "outputs": []
    },
    {
      "cell_type": "code",
      "source": [
        "def server_fn(context):\n",
        "    # Configure the server for 3 rounds of training\n",
        "    config = fl.server.ServerConfig(num_rounds=3)\n",
        "    return fl.server.ServerAppComponents(config=config)\n",
        "\n",
        "\n",
        "# Create ServerApp\n",
        "server = fl.server.ServerApp(server_fn=server_fn)"
      ],
      "metadata": {
        "id": "Ss2LA2nxJcon"
      },
      "execution_count": 12,
      "outputs": []
    },
    {
      "cell_type": "code",
      "source": [
        "NUM_PARTITIONS = 5\n",
        "\n",
        "# Run simulation\n",
        "fl.simulation.run_simulation(\n",
        "    server_app=server,\n",
        "    client_app=numpyclient_fn,\n",
        "    num_supernodes=NUM_PARTITIONS,\n",
        ")\n"
      ],
      "metadata": {
        "colab": {
          "base_uri": "https://localhost:8080/",
          "height": 1000
        },
        "id": "VMYExn-jJe8b",
        "outputId": "40b0d9bb-c490-4952-f841-12eb5a1d2025",
        "collapsed": true
      },
      "execution_count": 15,
      "outputs": [
        {
          "output_type": "stream",
          "name": "stderr",
          "text": [
            "\u001b[92mINFO \u001b[0m:      Starting Flower ServerApp, config: num_rounds=3, no round_timeout\n",
            "\u001b[92mINFO \u001b[0m:      \n",
            "\u001b[92mINFO \u001b[0m:      [INIT]\n",
            "\u001b[92mINFO \u001b[0m:      Requesting initial parameters from one random client\n",
            "\u001b[36m(pid=54750)\u001b[0m 2024-11-16 17:56:08.558167: E external/local_xla/xla/stream_executor/cuda/cuda_fft.cc:485] Unable to register cuFFT factory: Attempting to register factory for plugin cuFFT when one has already been registered\n",
            "\u001b[36m(pid=54750)\u001b[0m 2024-11-16 17:56:08.582942: E external/local_xla/xla/stream_executor/cuda/cuda_dnn.cc:8454] Unable to register cuDNN factory: Attempting to register factory for plugin cuDNN when one has already been registered\n",
            "\u001b[36m(pid=54750)\u001b[0m 2024-11-16 17:56:08.589768: E external/local_xla/xla/stream_executor/cuda/cuda_blas.cc:1452] Unable to register cuBLAS factory: Attempting to register factory for plugin cuBLAS when one has already been registered\n",
            "\u001b[36m(pid=54750)\u001b[0m 2024-11-16 17:56:09.881359: W tensorflow/compiler/tf2tensorrt/utils/py_utils.cc:38] TF-TRT Warning: Could not find TensorRT\n",
            "\u001b[36m(ClientAppActor pid=54750)\u001b[0m /usr/local/lib/python3.10/dist-packages/jupyter_client/connect.py:28: DeprecationWarning: Jupyter is migrating its paths to use standard platformdirs\n",
            "\u001b[36m(ClientAppActor pid=54750)\u001b[0m given by the platformdirs library.  To remove this warning and\n",
            "\u001b[36m(ClientAppActor pid=54750)\u001b[0m see the appropriate new directories, set the environment variable\n",
            "\u001b[36m(ClientAppActor pid=54750)\u001b[0m `JUPYTER_PLATFORM_DIRS=1` and then run `jupyter --paths`.\n",
            "\u001b[36m(ClientAppActor pid=54750)\u001b[0m The use of platformdirs will be the default in `jupyter_core` v6\n",
            "\u001b[36m(ClientAppActor pid=54750)\u001b[0m   from jupyter_core.paths import jupyter_data_dir, jupyter_runtime_dir, secure_write\n",
            "\u001b[36m(ClientAppActor pid=54750)\u001b[0m /usr/local/lib/python3.10/dist-packages/pandas/core/dtypes/cast.py:1641: DeprecationWarning: np.find_common_type is deprecated.  Please use `np.result_type` or `np.promote_types`.\n",
            "\u001b[36m(ClientAppActor pid=54750)\u001b[0m See https://numpy.org/devdocs/release/1.25.0-notes.html and the docs for more information.  (Deprecated NumPy 1.25)\n",
            "\u001b[36m(ClientAppActor pid=54750)\u001b[0m   return np.find_common_type(types, [])\n",
            "\u001b[36m(ClientAppActor pid=54750)\u001b[0m /usr/local/lib/python3.10/dist-packages/pandas/core/dtypes/cast.py:1641: DeprecationWarning: np.find_common_type is deprecated.  Please use `np.result_type` or `np.promote_types`.\n",
            "\u001b[36m(ClientAppActor pid=54750)\u001b[0m See https://numpy.org/devdocs/release/1.25.0-notes.html and the docs for more information.  (Deprecated NumPy 1.25)\n",
            "\u001b[36m(ClientAppActor pid=54750)\u001b[0m   return np.find_common_type(types, [])\n",
            "\u001b[36m(ClientAppActor pid=54750)\u001b[0m /usr/local/lib/python3.10/dist-packages/pandas/core/dtypes/cast.py:1641: DeprecationWarning: np.find_common_type is deprecated.  Please use `np.result_type` or `np.promote_types`.\n",
            "\u001b[36m(ClientAppActor pid=54750)\u001b[0m See https://numpy.org/devdocs/release/1.25.0-notes.html and the docs for more information.  (Deprecated NumPy 1.25)\n",
            "\u001b[36m(ClientAppActor pid=54750)\u001b[0m   return np.find_common_type(types, [])\n",
            "\u001b[36m(ClientAppActor pid=54750)\u001b[0m /usr/local/lib/python3.10/dist-packages/pandas/core/dtypes/cast.py:1641: DeprecationWarning: np.find_common_type is deprecated.  Please use `np.result_type` or `np.promote_types`.\n",
            "\u001b[36m(ClientAppActor pid=54750)\u001b[0m See https://numpy.org/devdocs/release/1.25.0-notes.html and the docs for more information.  (Deprecated NumPy 1.25)\n",
            "\u001b[36m(ClientAppActor pid=54750)\u001b[0m   return np.find_common_type(types, [])\n",
            "\u001b[36m(ClientAppActor pid=54750)\u001b[0m /usr/local/lib/python3.10/dist-packages/pandas/core/dtypes/cast.py:1641: DeprecationWarning: np.find_common_type is deprecated.  Please use `np.result_type` or `np.promote_types`.\n",
            "\u001b[36m(ClientAppActor pid=54750)\u001b[0m See https://numpy.org/devdocs/release/1.25.0-notes.html and the docs for more information.  (Deprecated NumPy 1.25)\n",
            "\u001b[36m(ClientAppActor pid=54750)\u001b[0m   return np.find_common_type(types, [])\n",
            "\u001b[36m(ClientAppActor pid=54750)\u001b[0m /usr/local/lib/python3.10/dist-packages/pandas/core/dtypes/cast.py:1641: DeprecationWarning: np.find_common_type is deprecated.  Please use `np.result_type` or `np.promote_types`.\n",
            "\u001b[36m(ClientAppActor pid=54750)\u001b[0m See https://numpy.org/devdocs/release/1.25.0-notes.html and the docs for more information.  (Deprecated NumPy 1.25)\n",
            "\u001b[36m(ClientAppActor pid=54750)\u001b[0m   return np.find_common_type(types, [])\n",
            "\u001b[36m(ClientAppActor pid=54750)\u001b[0m /usr/local/lib/python3.10/dist-packages/pandas/core/dtypes/cast.py:1641: DeprecationWarning: np.find_common_type is deprecated.  Please use `np.result_type` or `np.promote_types`.\n",
            "\u001b[36m(ClientAppActor pid=54750)\u001b[0m See https://numpy.org/devdocs/release/1.25.0-notes.html and the docs for more information.  (Deprecated NumPy 1.25)\n",
            "\u001b[36m(ClientAppActor pid=54750)\u001b[0m   return np.find_common_type(types, [])\n",
            "\u001b[36m(ClientAppActor pid=54750)\u001b[0m /usr/local/lib/python3.10/dist-packages/pandas/core/dtypes/cast.py:1641: DeprecationWarning: np.find_common_type is deprecated.  Please use `np.result_type` or `np.promote_types`.\n",
            "\u001b[36m(ClientAppActor pid=54750)\u001b[0m See https://numpy.org/devdocs/release/1.25.0-notes.html and the docs for more information.  (Deprecated NumPy 1.25)\n",
            "\u001b[36m(ClientAppActor pid=54750)\u001b[0m   return np.find_common_type(types, [])\n",
            "\u001b[36m(ClientAppActor pid=54750)\u001b[0m /usr/local/lib/python3.10/dist-packages/pandas/core/dtypes/cast.py:1641: DeprecationWarning: np.find_common_type is deprecated.  Please use `np.result_type` or `np.promote_types`.\n",
            "\u001b[36m(ClientAppActor pid=54750)\u001b[0m See https://numpy.org/devdocs/release/1.25.0-notes.html and the docs for more information.  (Deprecated NumPy 1.25)\n",
            "\u001b[36m(ClientAppActor pid=54750)\u001b[0m   return np.find_common_type(types, [])\n",
            "\u001b[36m(ClientAppActor pid=54750)\u001b[0m /usr/local/lib/python3.10/dist-packages/pandas/core/dtypes/cast.py:1641: DeprecationWarning: np.find_common_type is deprecated.  Please use `np.result_type` or `np.promote_types`.\n",
            "\u001b[36m(ClientAppActor pid=54750)\u001b[0m See https://numpy.org/devdocs/release/1.25.0-notes.html and the docs for more information.  (Deprecated NumPy 1.25)\n",
            "\u001b[36m(ClientAppActor pid=54750)\u001b[0m   return np.find_common_type(types, [])\n",
            "\u001b[36m(ClientAppActor pid=54750)\u001b[0m /usr/local/lib/python3.10/dist-packages/pandas/core/dtypes/cast.py:1641: DeprecationWarning: np.find_common_type is deprecated.  Please use `np.result_type` or `np.promote_types`.\n",
            "\u001b[36m(ClientAppActor pid=54750)\u001b[0m See https://numpy.org/devdocs/release/1.25.0-notes.html and the docs for more information.  (Deprecated NumPy 1.25)\n",
            "\u001b[36m(ClientAppActor pid=54750)\u001b[0m   return np.find_common_type(types, [])\n",
            "\u001b[36m(ClientAppActor pid=54750)\u001b[0m /usr/local/lib/python3.10/dist-packages/pandas/core/dtypes/cast.py:1641: DeprecationWarning: np.find_common_type is deprecated.  Please use `np.result_type` or `np.promote_types`.\n",
            "\u001b[36m(ClientAppActor pid=54750)\u001b[0m See https://numpy.org/devdocs/release/1.25.0-notes.html and the docs for more information.  (Deprecated NumPy 1.25)\n",
            "\u001b[36m(ClientAppActor pid=54750)\u001b[0m   return np.find_common_type(types, [])\n",
            "\u001b[36m(ClientAppActor pid=54750)\u001b[0m /usr/local/lib/python3.10/dist-packages/pandas/core/dtypes/cast.py:1641: DeprecationWarning: np.find_common_type is deprecated.  Please use `np.result_type` or `np.promote_types`.\n",
            "\u001b[36m(ClientAppActor pid=54750)\u001b[0m See https://numpy.org/devdocs/release/1.25.0-notes.html and the docs for more information.  (Deprecated NumPy 1.25)\n",
            "\u001b[36m(ClientAppActor pid=54750)\u001b[0m   return np.find_common_type(types, [])\n",
            "\u001b[36m(ClientAppActor pid=54750)\u001b[0m /usr/local/lib/python3.10/dist-packages/pandas/core/dtypes/cast.py:1641: DeprecationWarning: np.find_common_type is deprecated.  Please use `np.result_type` or `np.promote_types`.\n",
            "\u001b[36m(ClientAppActor pid=54750)\u001b[0m See https://numpy.org/devdocs/release/1.25.0-notes.html and the docs for more information.  (Deprecated NumPy 1.25)\n",
            "\u001b[36m(ClientAppActor pid=54750)\u001b[0m   return np.find_common_type(types, [])\n",
            "\u001b[36m(ClientAppActor pid=54750)\u001b[0m /usr/local/lib/python3.10/dist-packages/pandas/core/dtypes/cast.py:1641: DeprecationWarning: np.find_common_type is deprecated.  Please use `np.result_type` or `np.promote_types`.\n",
            "\u001b[36m(ClientAppActor pid=54750)\u001b[0m See https://numpy.org/devdocs/release/1.25.0-notes.html and the docs for more information.  (Deprecated NumPy 1.25)\n",
            "\u001b[36m(ClientAppActor pid=54750)\u001b[0m   return np.find_common_type(types, [])\n",
            "\u001b[36m(ClientAppActor pid=54750)\u001b[0m /usr/local/lib/python3.10/dist-packages/pandas/core/dtypes/cast.py:1641: DeprecationWarning: np.find_common_type is deprecated.  Please use `np.result_type` or `np.promote_types`.\n",
            "\u001b[36m(ClientAppActor pid=54750)\u001b[0m See https://numpy.org/devdocs/release/1.25.0-notes.html and the docs for more information.  (Deprecated NumPy 1.25)\n",
            "\u001b[36m(ClientAppActor pid=54750)\u001b[0m   return np.find_common_type(types, [])\n",
            "\u001b[36m(ClientAppActor pid=54750)\u001b[0m /usr/local/lib/python3.10/dist-packages/pandas/core/dtypes/cast.py:1641: DeprecationWarning: np.find_common_type is deprecated.  Please use `np.result_type` or `np.promote_types`.\n",
            "\u001b[36m(ClientAppActor pid=54750)\u001b[0m See https://numpy.org/devdocs/release/1.25.0-notes.html and the docs for more information.  (Deprecated NumPy 1.25)\n",
            "\u001b[36m(ClientAppActor pid=54750)\u001b[0m   return np.find_common_type(types, [])\n",
            "\u001b[36m(ClientAppActor pid=54750)\u001b[0m /usr/local/lib/python3.10/dist-packages/pandas/core/dtypes/cast.py:1641: DeprecationWarning: np.find_common_type is deprecated.  Please use `np.result_type` or `np.promote_types`.\n",
            "\u001b[36m(ClientAppActor pid=54750)\u001b[0m See https://numpy.org/devdocs/release/1.25.0-notes.html and the docs for more information.  (Deprecated NumPy 1.25)\n",
            "\u001b[36m(ClientAppActor pid=54750)\u001b[0m   return np.find_common_type(types, [])\n",
            "\u001b[36m(ClientAppActor pid=54750)\u001b[0m /usr/local/lib/python3.10/dist-packages/pandas/core/dtypes/cast.py:1641: DeprecationWarning: np.find_common_type is deprecated.  Please use `np.result_type` or `np.promote_types`.\n",
            "\u001b[36m(ClientAppActor pid=54750)\u001b[0m See https://numpy.org/devdocs/release/1.25.0-notes.html and the docs for more information.  (Deprecated NumPy 1.25)\n",
            "\u001b[36m(ClientAppActor pid=54750)\u001b[0m   return np.find_common_type(types, [])\n",
            "\u001b[36m(ClientAppActor pid=54750)\u001b[0m /usr/local/lib/python3.10/dist-packages/pandas/core/dtypes/cast.py:1641: DeprecationWarning: np.find_common_type is deprecated.  Please use `np.result_type` or `np.promote_types`.\n",
            "\u001b[36m(ClientAppActor pid=54750)\u001b[0m See https://numpy.org/devdocs/release/1.25.0-notes.html and the docs for more information.  (Deprecated NumPy 1.25)\n",
            "\u001b[36m(ClientAppActor pid=54750)\u001b[0m   return np.find_common_type(types, [])\n",
            "\u001b[36m(ClientAppActor pid=54750)\u001b[0m /usr/local/lib/python3.10/dist-packages/pandas/core/dtypes/cast.py:1641: DeprecationWarning: np.find_common_type is deprecated.  Please use `np.result_type` or `np.promote_types`.\n",
            "\u001b[36m(ClientAppActor pid=54750)\u001b[0m See https://numpy.org/devdocs/release/1.25.0-notes.html and the docs for more information.  (Deprecated NumPy 1.25)\n",
            "\u001b[36m(ClientAppActor pid=54750)\u001b[0m   return np.find_common_type(types, [])\n",
            "\u001b[36m(ClientAppActor pid=54750)\u001b[0m /usr/local/lib/python3.10/dist-packages/pandas/core/dtypes/cast.py:1641: DeprecationWarning: np.find_common_type is deprecated.  Please use `np.result_type` or `np.promote_types`.\n",
            "\u001b[36m(ClientAppActor pid=54750)\u001b[0m See https://numpy.org/devdocs/release/1.25.0-notes.html and the docs for more information.  (Deprecated NumPy 1.25)\n",
            "\u001b[36m(ClientAppActor pid=54750)\u001b[0m   return np.find_common_type(types, [])\n",
            "\u001b[36m(ClientAppActor pid=54750)\u001b[0m /usr/local/lib/python3.10/dist-packages/pandas/core/dtypes/cast.py:1641: DeprecationWarning: np.find_common_type is deprecated.  Please use `np.result_type` or `np.promote_types`.\n",
            "\u001b[36m(ClientAppActor pid=54750)\u001b[0m See https://numpy.org/devdocs/release/1.25.0-notes.html and the docs for more information.  (Deprecated NumPy 1.25)\n",
            "\u001b[36m(ClientAppActor pid=54750)\u001b[0m   return np.find_common_type(types, [])\n",
            "\u001b[36m(ClientAppActor pid=54750)\u001b[0m /usr/local/lib/python3.10/dist-packages/pandas/core/dtypes/cast.py:1641: DeprecationWarning: np.find_common_type is deprecated.  Please use `np.result_type` or `np.promote_types`.\n",
            "\u001b[36m(ClientAppActor pid=54750)\u001b[0m See https://numpy.org/devdocs/release/1.25.0-notes.html and the docs for more information.  (Deprecated NumPy 1.25)\n",
            "\u001b[36m(ClientAppActor pid=54750)\u001b[0m   return np.find_common_type(types, [])\n",
            "\u001b[36m(ClientAppActor pid=54750)\u001b[0m /usr/local/lib/python3.10/dist-packages/pandas/core/dtypes/cast.py:1641: DeprecationWarning: np.find_common_type is deprecated.  Please use `np.result_type` or `np.promote_types`.\n",
            "\u001b[36m(ClientAppActor pid=54750)\u001b[0m See https://numpy.org/devdocs/release/1.25.0-notes.html and the docs for more information.  (Deprecated NumPy 1.25)\n",
            "\u001b[36m(ClientAppActor pid=54750)\u001b[0m   return np.find_common_type(types, [])\n",
            "\u001b[36m(ClientAppActor pid=54750)\u001b[0m /usr/local/lib/python3.10/dist-packages/pandas/core/dtypes/cast.py:1641: DeprecationWarning: np.find_common_type is deprecated.  Please use `np.result_type` or `np.promote_types`.\n",
            "\u001b[36m(ClientAppActor pid=54750)\u001b[0m See https://numpy.org/devdocs/release/1.25.0-notes.html and the docs for more information.  (Deprecated NumPy 1.25)\n",
            "\u001b[36m(ClientAppActor pid=54750)\u001b[0m   return np.find_common_type(types, [])\n",
            "\u001b[36m(ClientAppActor pid=54750)\u001b[0m /usr/local/lib/python3.10/dist-packages/pandas/core/dtypes/cast.py:1641: DeprecationWarning: np.find_common_type is deprecated.  Please use `np.result_type` or `np.promote_types`.\n",
            "\u001b[36m(ClientAppActor pid=54750)\u001b[0m See https://numpy.org/devdocs/release/1.25.0-notes.html and the docs for more information.  (Deprecated NumPy 1.25)\n",
            "\u001b[36m(ClientAppActor pid=54750)\u001b[0m   return np.find_common_type(types, [])\n",
            "\u001b[36m(ClientAppActor pid=54750)\u001b[0m /usr/local/lib/python3.10/dist-packages/pandas/core/dtypes/cast.py:1641: DeprecationWarning: np.find_common_type is deprecated.  Please use `np.result_type` or `np.promote_types`.\n",
            "\u001b[36m(ClientAppActor pid=54750)\u001b[0m See https://numpy.org/devdocs/release/1.25.0-notes.html and the docs for more information.  (Deprecated NumPy 1.25)\n",
            "\u001b[36m(ClientAppActor pid=54750)\u001b[0m   return np.find_common_type(types, [])\n",
            "\u001b[36m(ClientAppActor pid=54750)\u001b[0m /usr/local/lib/python3.10/dist-packages/pandas/core/dtypes/cast.py:1641: DeprecationWarning: np.find_common_type is deprecated.  Please use `np.result_type` or `np.promote_types`.\n",
            "\u001b[36m(ClientAppActor pid=54750)\u001b[0m See https://numpy.org/devdocs/release/1.25.0-notes.html and the docs for more information.  (Deprecated NumPy 1.25)\n",
            "\u001b[36m(ClientAppActor pid=54750)\u001b[0m   return np.find_common_type(types, [])\n",
            "\u001b[36m(ClientAppActor pid=54750)\u001b[0m /usr/local/lib/python3.10/dist-packages/pandas/core/dtypes/cast.py:1641: DeprecationWarning: np.find_common_type is deprecated.  Please use `np.result_type` or `np.promote_types`.\n",
            "\u001b[36m(ClientAppActor pid=54750)\u001b[0m See https://numpy.org/devdocs/release/1.25.0-notes.html and the docs for more information.  (Deprecated NumPy 1.25)\n",
            "\u001b[36m(ClientAppActor pid=54750)\u001b[0m   return np.find_common_type(types, [])\n",
            "\u001b[36m(ClientAppActor pid=54750)\u001b[0m /usr/local/lib/python3.10/dist-packages/pandas/core/dtypes/cast.py:1641: DeprecationWarning: np.find_common_type is deprecated.  Please use `np.result_type` or `np.promote_types`.\n",
            "\u001b[36m(ClientAppActor pid=54750)\u001b[0m See https://numpy.org/devdocs/release/1.25.0-notes.html and the docs for more information.  (Deprecated NumPy 1.25)\n",
            "\u001b[36m(ClientAppActor pid=54750)\u001b[0m   return np.find_common_type(types, [])\n",
            "\u001b[36m(ClientAppActor pid=54750)\u001b[0m /usr/local/lib/python3.10/dist-packages/pandas/core/dtypes/cast.py:1641: DeprecationWarning: np.find_common_type is deprecated.  Please use `np.result_type` or `np.promote_types`.\n",
            "\u001b[36m(ClientAppActor pid=54750)\u001b[0m See https://numpy.org/devdocs/release/1.25.0-notes.html and the docs for more information.  (Deprecated NumPy 1.25)\n",
            "\u001b[36m(ClientAppActor pid=54750)\u001b[0m   return np.find_common_type(types, [])\n",
            "\u001b[36m(ClientAppActor pid=54750)\u001b[0m /usr/local/lib/python3.10/dist-packages/pandas/core/dtypes/cast.py:1641: DeprecationWarning: np.find_common_type is deprecated.  Please use `np.result_type` or `np.promote_types`.\n",
            "\u001b[36m(ClientAppActor pid=54750)\u001b[0m See https://numpy.org/devdocs/release/1.25.0-notes.html and the docs for more information.  (Deprecated NumPy 1.25)\n",
            "\u001b[36m(ClientAppActor pid=54750)\u001b[0m   return np.find_common_type(types, [])\n",
            "\u001b[36m(ClientAppActor pid=54750)\u001b[0m /usr/local/lib/python3.10/dist-packages/pandas/core/dtypes/cast.py:1641: DeprecationWarning: np.find_common_type is deprecated.  Please use `np.result_type` or `np.promote_types`.\n",
            "\u001b[36m(ClientAppActor pid=54750)\u001b[0m See https://numpy.org/devdocs/release/1.25.0-notes.html and the docs for more information.  (Deprecated NumPy 1.25)\n",
            "\u001b[36m(ClientAppActor pid=54750)\u001b[0m   return np.find_common_type(types, [])\n",
            "\u001b[36m(ClientAppActor pid=54750)\u001b[0m /usr/local/lib/python3.10/dist-packages/pandas/core/dtypes/cast.py:1641: DeprecationWarning: np.find_common_type is deprecated.  Please use `np.result_type` or `np.promote_types`.\n",
            "\u001b[36m(ClientAppActor pid=54750)\u001b[0m See https://numpy.org/devdocs/release/1.25.0-notes.html and the docs for more information.  (Deprecated NumPy 1.25)\n",
            "\u001b[36m(ClientAppActor pid=54750)\u001b[0m   return np.find_common_type(types, [])\n",
            "\u001b[36m(ClientAppActor pid=54750)\u001b[0m /usr/local/lib/python3.10/dist-packages/pandas/core/dtypes/cast.py:1641: DeprecationWarning: np.find_common_type is deprecated.  Please use `np.result_type` or `np.promote_types`.\n",
            "\u001b[36m(ClientAppActor pid=54750)\u001b[0m See https://numpy.org/devdocs/release/1.25.0-notes.html and the docs for more information.  (Deprecated NumPy 1.25)\n",
            "\u001b[36m(ClientAppActor pid=54750)\u001b[0m   return np.find_common_type(types, [])\n"
          ]
        },
        {
          "output_type": "stream",
          "name": "stdout",
          "text": [
            "\u001b[36m(ClientAppActor pid=54750)\u001b[0m Esse é o client id: 3\n",
            "\u001b[36m(ClientAppActor pid=54750)\u001b[0m Used Annotations descriptions: ['feet', 'left_hand', 'right_hand', 'tongue']\n",
            "\u001b[36m(ClientAppActor pid=54750)\u001b[0m Used Annotations descriptions: ['feet', 'left_hand', 'right_hand', 'tongue']\n",
            "\u001b[36m(ClientAppActor pid=54750)\u001b[0m Saiu da função window\n",
            "\u001b[36m(ClientAppActor pid=54750)\u001b[0m Entrou na função model\n",
            "\u001b[36m(ClientAppActor pid=54750)\u001b[0m Saiu da função model\n",
            "\u001b[36m(ClientAppActor pid=54750)\u001b[0m {'1test': <braindecode.datasets.base.BaseConcatDataset object at 0x788295511de0>}\n",
            "\u001b[36m(ClientAppActor pid=54750)\u001b[0m Vai iniciar o classificador\n",
            "\u001b[36m(ClientAppActor pid=54750)\u001b[0m Saiu do classificador\n"
          ]
        },
        {
          "output_type": "stream",
          "name": "stderr",
          "text": [
            "\u001b[36m(ClientAppActor pid=54750)\u001b[0m /usr/local/lib/python3.10/dist-packages/braindecode/models/base.py:23: UserWarning: ShallowFBCSPNet: 'input_window_samples' is depreciated. Use 'n_times' instead.\n",
            "\u001b[36m(ClientAppActor pid=54750)\u001b[0m   warnings.warn(\n",
            "\u001b[36m(ClientAppActor pid=54750)\u001b[0m /usr/local/lib/python3.10/dist-packages/braindecode/models/base.py:180: UserWarning: LogSoftmax final layer will be removed! Please adjust your loss function accordingly (e.g. CrossEntropyLoss)!\n",
            "\u001b[36m(ClientAppActor pid=54750)\u001b[0m   warnings.warn(\"LogSoftmax final layer will be removed! \" +\n",
            "/usr/local/lib/python3.10/dist-packages/skorch/net.py:2231: FutureWarning: You are using `torch.load` with `weights_only=False` (the current default value), which uses the default pickle module implicitly. It is possible to construct malicious pickle data which will execute arbitrary code during unpickling (See https://github.com/pytorch/pytorch/blob/main/SECURITY.md#untrusted-models for more details). In a future release, the default value for `weights_only` will be flipped to `True`. This limits the functions that could be executed during unpickling. Arbitrary objects will no longer be allowed to be loaded via this mode unless they are explicitly allowlisted by the user via `torch.serialization.add_safe_globals`. We recommend you start setting `weights_only=True` for any use case where you don't have full control of the loaded file. Please open an issue on GitHub for any issues related to this experimental feature.\n",
            "  cuda_attrs = torch.load(f, **load_kwargs)\n"
          ]
        },
        {
          "output_type": "error",
          "ename": "KeyboardInterrupt",
          "evalue": "",
          "traceback": [
            "\u001b[0;31m---------------------------------------------------------------------------\u001b[0m",
            "\u001b[0;31mKeyboardInterrupt\u001b[0m                         Traceback (most recent call last)",
            "\u001b[0;32m/usr/local/lib/python3.10/dist-packages/flwr/server/superlink/fleet/vce/vce_api.py\u001b[0m in \u001b[0;36mrun_api\u001b[0;34m(app_fn, backend_fn, nodes_mapping, state_factory, node_states, f_stop)\u001b[0m\n\u001b[1;32m    232\u001b[0m \u001b[0;34m\u001b[0m\u001b[0m\n\u001b[0;32m--> 233\u001b[0;31m         \u001b[0mextractor_th\u001b[0m\u001b[0;34m.\u001b[0m\u001b[0mjoin\u001b[0m\u001b[0;34m(\u001b[0m\u001b[0;34m)\u001b[0m\u001b[0;34m\u001b[0m\u001b[0;34m\u001b[0m\u001b[0m\n\u001b[0m\u001b[1;32m    234\u001b[0m         \u001b[0minjector_th\u001b[0m\u001b[0;34m.\u001b[0m\u001b[0mjoin\u001b[0m\u001b[0;34m(\u001b[0m\u001b[0;34m)\u001b[0m\u001b[0;34m\u001b[0m\u001b[0;34m\u001b[0m\u001b[0m\n",
            "\u001b[0;32m/usr/lib/python3.10/threading.py\u001b[0m in \u001b[0;36mjoin\u001b[0;34m(self, timeout)\u001b[0m\n\u001b[1;32m   1095\u001b[0m         \u001b[0;32mif\u001b[0m \u001b[0mtimeout\u001b[0m \u001b[0;32mis\u001b[0m \u001b[0;32mNone\u001b[0m\u001b[0;34m:\u001b[0m\u001b[0;34m\u001b[0m\u001b[0;34m\u001b[0m\u001b[0m\n\u001b[0;32m-> 1096\u001b[0;31m             \u001b[0mself\u001b[0m\u001b[0;34m.\u001b[0m\u001b[0m_wait_for_tstate_lock\u001b[0m\u001b[0;34m(\u001b[0m\u001b[0;34m)\u001b[0m\u001b[0;34m\u001b[0m\u001b[0;34m\u001b[0m\u001b[0m\n\u001b[0m\u001b[1;32m   1097\u001b[0m         \u001b[0;32melse\u001b[0m\u001b[0;34m:\u001b[0m\u001b[0;34m\u001b[0m\u001b[0;34m\u001b[0m\u001b[0m\n",
            "\u001b[0;32m/usr/lib/python3.10/threading.py\u001b[0m in \u001b[0;36m_wait_for_tstate_lock\u001b[0;34m(self, block, timeout)\u001b[0m\n\u001b[1;32m   1115\u001b[0m         \u001b[0;32mtry\u001b[0m\u001b[0;34m:\u001b[0m\u001b[0;34m\u001b[0m\u001b[0;34m\u001b[0m\u001b[0m\n\u001b[0;32m-> 1116\u001b[0;31m             \u001b[0;32mif\u001b[0m \u001b[0mlock\u001b[0m\u001b[0;34m.\u001b[0m\u001b[0macquire\u001b[0m\u001b[0;34m(\u001b[0m\u001b[0mblock\u001b[0m\u001b[0;34m,\u001b[0m \u001b[0mtimeout\u001b[0m\u001b[0;34m)\u001b[0m\u001b[0;34m:\u001b[0m\u001b[0;34m\u001b[0m\u001b[0;34m\u001b[0m\u001b[0m\n\u001b[0m\u001b[1;32m   1117\u001b[0m                 \u001b[0mlock\u001b[0m\u001b[0;34m.\u001b[0m\u001b[0mrelease\u001b[0m\u001b[0;34m(\u001b[0m\u001b[0;34m)\u001b[0m\u001b[0;34m\u001b[0m\u001b[0;34m\u001b[0m\u001b[0m\n",
            "\u001b[0;31mKeyboardInterrupt\u001b[0m: ",
            "\nDuring handling of the above exception, another exception occurred:\n",
            "\u001b[0;31mKeyboardInterrupt\u001b[0m                         Traceback (most recent call last)",
            "\u001b[0;32m/usr/local/lib/python3.10/dist-packages/flwr/simulation/run_simulation.py\u001b[0m in \u001b[0;36m_main_loop\u001b[0;34m(num_supernodes, backend_name, backend_config_stream, app_dir, is_app, enable_tf_gpu_growth, run, exit_event, delay_start, flwr_dir, client_app, client_app_attr, server_app, server_app_attr, server_app_run_config)\u001b[0m\n\u001b[1;32m    425\u001b[0m         \u001b[0;31m# Start Simulation Engine\u001b[0m\u001b[0;34m\u001b[0m\u001b[0;34m\u001b[0m\u001b[0m\n\u001b[0;32m--> 426\u001b[0;31m         vce.start_vce(\n\u001b[0m\u001b[1;32m    427\u001b[0m             \u001b[0mnum_supernodes\u001b[0m\u001b[0;34m=\u001b[0m\u001b[0mnum_supernodes\u001b[0m\u001b[0;34m,\u001b[0m\u001b[0;34m\u001b[0m\u001b[0;34m\u001b[0m\u001b[0m\n",
            "\u001b[0;32m/usr/local/lib/python3.10/dist-packages/flwr/server/superlink/fleet/vce/vce_api.py\u001b[0m in \u001b[0;36mstart_vce\u001b[0;34m(backend_name, backend_config_json_stream, app_dir, is_app, f_stop, run, flwr_dir, client_app, client_app_attr, num_supernodes, state_factory, existing_nodes_mapping)\u001b[0m\n\u001b[1;32m    373\u001b[0m         \u001b[0;31m# Run main simulation loop\u001b[0m\u001b[0;34m\u001b[0m\u001b[0;34m\u001b[0m\u001b[0m\n\u001b[0;32m--> 374\u001b[0;31m         run_api(\n\u001b[0m\u001b[1;32m    375\u001b[0m             \u001b[0mapp_fn\u001b[0m\u001b[0;34m,\u001b[0m\u001b[0;34m\u001b[0m\u001b[0;34m\u001b[0m\u001b[0m\n",
            "\u001b[0;32m/usr/local/lib/python3.10/dist-packages/flwr/server/superlink/fleet/vce/vce_api.py\u001b[0m in \u001b[0;36mrun_api\u001b[0;34m(app_fn, backend_fn, nodes_mapping, state_factory, node_states, f_stop)\u001b[0m\n\u001b[1;32m    250\u001b[0m         \u001b[0;31m# Terminate backend\u001b[0m\u001b[0;34m\u001b[0m\u001b[0;34m\u001b[0m\u001b[0m\n\u001b[0;32m--> 251\u001b[0;31m         \u001b[0mbackend\u001b[0m\u001b[0;34m.\u001b[0m\u001b[0mterminate\u001b[0m\u001b[0;34m(\u001b[0m\u001b[0;34m)\u001b[0m\u001b[0;34m\u001b[0m\u001b[0;34m\u001b[0m\u001b[0m\n\u001b[0m\u001b[1;32m    252\u001b[0m \u001b[0;34m\u001b[0m\u001b[0m\n",
            "\u001b[0;32m/usr/local/lib/python3.10/dist-packages/flwr/server/superlink/fleet/vce/backend/raybackend.py\u001b[0m in \u001b[0;36mterminate\u001b[0;34m(self)\u001b[0m\n\u001b[1;32m    191\u001b[0m             \u001b[0mself\u001b[0m\u001b[0;34m.\u001b[0m\u001b[0mpool\u001b[0m\u001b[0;34m.\u001b[0m\u001b[0mterminate_all_actors\u001b[0m\u001b[0;34m(\u001b[0m\u001b[0;34m)\u001b[0m\u001b[0;34m\u001b[0m\u001b[0;34m\u001b[0m\u001b[0m\n\u001b[0;32m--> 192\u001b[0;31m         \u001b[0mray\u001b[0m\u001b[0;34m.\u001b[0m\u001b[0mshutdown\u001b[0m\u001b[0;34m(\u001b[0m\u001b[0;34m)\u001b[0m\u001b[0;34m\u001b[0m\u001b[0;34m\u001b[0m\u001b[0m\n\u001b[0m\u001b[1;32m    193\u001b[0m         \u001b[0mlog\u001b[0m\u001b[0;34m(\u001b[0m\u001b[0mDEBUG\u001b[0m\u001b[0;34m,\u001b[0m \u001b[0;34m\"Terminated %s\"\u001b[0m\u001b[0;34m,\u001b[0m \u001b[0mself\u001b[0m\u001b[0;34m.\u001b[0m\u001b[0m__class__\u001b[0m\u001b[0;34m.\u001b[0m\u001b[0m__name__\u001b[0m\u001b[0;34m)\u001b[0m\u001b[0;34m\u001b[0m\u001b[0;34m\u001b[0m\u001b[0m\n",
            "\u001b[0;32m/usr/local/lib/python3.10/dist-packages/ray/_private/client_mode_hook.py\u001b[0m in \u001b[0;36mwrapper\u001b[0;34m(*args, **kwargs)\u001b[0m\n\u001b[1;32m    102\u001b[0m                 \u001b[0;32mreturn\u001b[0m \u001b[0mgetattr\u001b[0m\u001b[0;34m(\u001b[0m\u001b[0mray\u001b[0m\u001b[0;34m,\u001b[0m \u001b[0mfunc\u001b[0m\u001b[0;34m.\u001b[0m\u001b[0m__name__\u001b[0m\u001b[0;34m)\u001b[0m\u001b[0;34m(\u001b[0m\u001b[0;34m*\u001b[0m\u001b[0margs\u001b[0m\u001b[0;34m,\u001b[0m \u001b[0;34m**\u001b[0m\u001b[0mkwargs\u001b[0m\u001b[0;34m)\u001b[0m\u001b[0;34m\u001b[0m\u001b[0;34m\u001b[0m\u001b[0m\n\u001b[0;32m--> 103\u001b[0;31m         \u001b[0;32mreturn\u001b[0m \u001b[0mfunc\u001b[0m\u001b[0;34m(\u001b[0m\u001b[0;34m*\u001b[0m\u001b[0margs\u001b[0m\u001b[0;34m,\u001b[0m \u001b[0;34m**\u001b[0m\u001b[0mkwargs\u001b[0m\u001b[0;34m)\u001b[0m\u001b[0;34m\u001b[0m\u001b[0;34m\u001b[0m\u001b[0m\n\u001b[0m\u001b[1;32m    104\u001b[0m \u001b[0;34m\u001b[0m\u001b[0m\n",
            "\u001b[0;32m/usr/local/lib/python3.10/dist-packages/ray/_private/worker.py\u001b[0m in \u001b[0;36mshutdown\u001b[0;34m(_exiting_interpreter)\u001b[0m\n\u001b[1;32m   1840\u001b[0m             \u001b[0m_global_node\u001b[0m\u001b[0;34m.\u001b[0m\u001b[0mdestroy_external_storage\u001b[0m\u001b[0;34m(\u001b[0m\u001b[0;34m)\u001b[0m\u001b[0;34m\u001b[0m\u001b[0;34m\u001b[0m\u001b[0m\n\u001b[0;32m-> 1841\u001b[0;31m         \u001b[0m_global_node\u001b[0m\u001b[0;34m.\u001b[0m\u001b[0mkill_all_processes\u001b[0m\u001b[0;34m(\u001b[0m\u001b[0mcheck_alive\u001b[0m\u001b[0;34m=\u001b[0m\u001b[0;32mFalse\u001b[0m\u001b[0;34m,\u001b[0m \u001b[0mallow_graceful\u001b[0m\u001b[0;34m=\u001b[0m\u001b[0;32mTrue\u001b[0m\u001b[0;34m)\u001b[0m\u001b[0;34m\u001b[0m\u001b[0;34m\u001b[0m\u001b[0m\n\u001b[0m\u001b[1;32m   1842\u001b[0m         \u001b[0m_global_node\u001b[0m \u001b[0;34m=\u001b[0m \u001b[0;32mNone\u001b[0m\u001b[0;34m\u001b[0m\u001b[0;34m\u001b[0m\u001b[0m\n",
            "\u001b[0;32m/usr/local/lib/python3.10/dist-packages/ray/_private/node.py\u001b[0m in \u001b[0;36mkill_all_processes\u001b[0;34m(self, check_alive, allow_graceful, wait)\u001b[0m\n\u001b[1;32m   1618\u001b[0m             \u001b[0;32mif\u001b[0m \u001b[0mprocess_type\u001b[0m \u001b[0;34m!=\u001b[0m \u001b[0mray_constants\u001b[0m\u001b[0;34m.\u001b[0m\u001b[0mPROCESS_TYPE_REAPER\u001b[0m\u001b[0;34m:\u001b[0m\u001b[0;34m\u001b[0m\u001b[0;34m\u001b[0m\u001b[0m\n\u001b[0;32m-> 1619\u001b[0;31m                 self._kill_process_type(\n\u001b[0m\u001b[1;32m   1620\u001b[0m                     \u001b[0mprocess_type\u001b[0m\u001b[0;34m,\u001b[0m\u001b[0;34m\u001b[0m\u001b[0;34m\u001b[0m\u001b[0m\n",
            "\u001b[0;32m/usr/local/lib/python3.10/dist-packages/ray/_private/node.py\u001b[0m in \u001b[0;36m_kill_process_type\u001b[0;34m(self, process_type, allow_graceful, check_alive, wait)\u001b[0m\n\u001b[1;32m   1418\u001b[0m         \u001b[0;32mwith\u001b[0m \u001b[0mself\u001b[0m\u001b[0;34m.\u001b[0m\u001b[0mremoval_lock\u001b[0m\u001b[0;34m:\u001b[0m\u001b[0;34m\u001b[0m\u001b[0;34m\u001b[0m\u001b[0m\n\u001b[0;32m-> 1419\u001b[0;31m             self._kill_process_impl(\n\u001b[0m\u001b[1;32m   1420\u001b[0m                 \u001b[0mprocess_type\u001b[0m\u001b[0;34m,\u001b[0m\u001b[0;34m\u001b[0m\u001b[0;34m\u001b[0m\u001b[0m\n",
            "\u001b[0;32m/usr/local/lib/python3.10/dist-packages/ray/_private/node.py\u001b[0m in \u001b[0;36m_kill_process_impl\u001b[0;34m(self, process_type, allow_graceful, check_alive, wait)\u001b[0m\n\u001b[1;32m   1474\u001b[0m                 \u001b[0;32mtry\u001b[0m\u001b[0;34m:\u001b[0m\u001b[0;34m\u001b[0m\u001b[0;34m\u001b[0m\u001b[0m\n\u001b[0;32m-> 1475\u001b[0;31m                     \u001b[0mprocess\u001b[0m\u001b[0;34m.\u001b[0m\u001b[0mwait\u001b[0m\u001b[0;34m(\u001b[0m\u001b[0mtimeout_seconds\u001b[0m\u001b[0;34m)\u001b[0m\u001b[0;34m\u001b[0m\u001b[0;34m\u001b[0m\u001b[0m\n\u001b[0m\u001b[1;32m   1476\u001b[0m                 \u001b[0;32mexcept\u001b[0m \u001b[0msubprocess\u001b[0m\u001b[0;34m.\u001b[0m\u001b[0mTimeoutExpired\u001b[0m\u001b[0;34m:\u001b[0m\u001b[0;34m\u001b[0m\u001b[0;34m\u001b[0m\u001b[0m\n",
            "\u001b[0;32m/usr/lib/python3.10/subprocess.py\u001b[0m in \u001b[0;36mwait\u001b[0;34m(self, timeout)\u001b[0m\n\u001b[1;32m   1208\u001b[0m         \u001b[0;32mtry\u001b[0m\u001b[0;34m:\u001b[0m\u001b[0;34m\u001b[0m\u001b[0;34m\u001b[0m\u001b[0m\n\u001b[0;32m-> 1209\u001b[0;31m             \u001b[0;32mreturn\u001b[0m \u001b[0mself\u001b[0m\u001b[0;34m.\u001b[0m\u001b[0m_wait\u001b[0m\u001b[0;34m(\u001b[0m\u001b[0mtimeout\u001b[0m\u001b[0;34m=\u001b[0m\u001b[0mtimeout\u001b[0m\u001b[0;34m)\u001b[0m\u001b[0;34m\u001b[0m\u001b[0;34m\u001b[0m\u001b[0m\n\u001b[0m\u001b[1;32m   1210\u001b[0m         \u001b[0;32mexcept\u001b[0m \u001b[0mKeyboardInterrupt\u001b[0m\u001b[0;34m:\u001b[0m\u001b[0;34m\u001b[0m\u001b[0;34m\u001b[0m\u001b[0m\n",
            "\u001b[0;32m/usr/lib/python3.10/subprocess.py\u001b[0m in \u001b[0;36m_wait\u001b[0;34m(self, timeout)\u001b[0m\n\u001b[1;32m   1952\u001b[0m                     \u001b[0mdelay\u001b[0m \u001b[0;34m=\u001b[0m \u001b[0mmin\u001b[0m\u001b[0;34m(\u001b[0m\u001b[0mdelay\u001b[0m \u001b[0;34m*\u001b[0m \u001b[0;36m2\u001b[0m\u001b[0;34m,\u001b[0m \u001b[0mremaining\u001b[0m\u001b[0;34m,\u001b[0m \u001b[0;36m.05\u001b[0m\u001b[0;34m)\u001b[0m\u001b[0;34m\u001b[0m\u001b[0;34m\u001b[0m\u001b[0m\n\u001b[0;32m-> 1953\u001b[0;31m                     \u001b[0mtime\u001b[0m\u001b[0;34m.\u001b[0m\u001b[0msleep\u001b[0m\u001b[0;34m(\u001b[0m\u001b[0mdelay\u001b[0m\u001b[0;34m)\u001b[0m\u001b[0;34m\u001b[0m\u001b[0;34m\u001b[0m\u001b[0m\n\u001b[0m\u001b[1;32m   1954\u001b[0m             \u001b[0;32melse\u001b[0m\u001b[0;34m:\u001b[0m\u001b[0;34m\u001b[0m\u001b[0;34m\u001b[0m\u001b[0m\n",
            "\u001b[0;31mKeyboardInterrupt\u001b[0m: ",
            "\nDuring handling of the above exception, another exception occurred:\n",
            "\u001b[0;31mKeyboardInterrupt\u001b[0m                         Traceback (most recent call last)",
            "\u001b[0;32m<ipython-input-15-b2a32e1107bf>\u001b[0m in \u001b[0;36m<cell line: 4>\u001b[0;34m()\u001b[0m\n\u001b[1;32m      2\u001b[0m \u001b[0;34m\u001b[0m\u001b[0m\n\u001b[1;32m      3\u001b[0m \u001b[0;31m# Run simulation\u001b[0m\u001b[0;34m\u001b[0m\u001b[0;34m\u001b[0m\u001b[0m\n\u001b[0;32m----> 4\u001b[0;31m fl.simulation.run_simulation(\n\u001b[0m\u001b[1;32m      5\u001b[0m     \u001b[0mserver_app\u001b[0m\u001b[0;34m=\u001b[0m\u001b[0mserver\u001b[0m\u001b[0;34m,\u001b[0m\u001b[0;34m\u001b[0m\u001b[0;34m\u001b[0m\u001b[0m\n\u001b[1;32m      6\u001b[0m     \u001b[0mclient_app\u001b[0m\u001b[0;34m=\u001b[0m\u001b[0mnumpyclient_fn\u001b[0m\u001b[0;34m,\u001b[0m\u001b[0;34m\u001b[0m\u001b[0;34m\u001b[0m\u001b[0m\n",
            "\u001b[0;32m/usr/local/lib/python3.10/dist-packages/flwr/simulation/run_simulation.py\u001b[0m in \u001b[0;36mrun_simulation\u001b[0;34m(server_app, client_app, num_supernodes, backend_name, backend_config, enable_tf_gpu_growth, verbose_logging)\u001b[0m\n\u001b[1;32m    289\u001b[0m         )\n\u001b[1;32m    290\u001b[0m \u001b[0;34m\u001b[0m\u001b[0m\n\u001b[0;32m--> 291\u001b[0;31m     _run_simulation(\n\u001b[0m\u001b[1;32m    292\u001b[0m         \u001b[0mnum_supernodes\u001b[0m\u001b[0;34m=\u001b[0m\u001b[0mnum_supernodes\u001b[0m\u001b[0;34m,\u001b[0m\u001b[0;34m\u001b[0m\u001b[0;34m\u001b[0m\u001b[0m\n\u001b[1;32m    293\u001b[0m         \u001b[0mclient_app\u001b[0m\u001b[0;34m=\u001b[0m\u001b[0mclient_app\u001b[0m\u001b[0;34m,\u001b[0m\u001b[0;34m\u001b[0m\u001b[0;34m\u001b[0m\u001b[0m\n",
            "\u001b[0;32m/usr/local/lib/python3.10/dist-packages/flwr/simulation/run_simulation.py\u001b[0m in \u001b[0;36m_run_simulation\u001b[0;34m(num_supernodes, exit_event, client_app, server_app, backend_name, backend_config, client_app_attr, server_app_attr, server_app_run_config, app_dir, flwr_dir, run, enable_tf_gpu_growth, delay_start, verbose_logging, is_app)\u001b[0m\n\u001b[1;32m    556\u001b[0m             \u001b[0mlogger\u001b[0m \u001b[0;34m=\u001b[0m \u001b[0mset_logger_propagation\u001b[0m\u001b[0;34m(\u001b[0m\u001b[0mlogger\u001b[0m\u001b[0;34m,\u001b[0m \u001b[0;32mFalse\u001b[0m\u001b[0;34m)\u001b[0m\u001b[0;34m\u001b[0m\u001b[0;34m\u001b[0m\u001b[0m\n\u001b[1;32m    557\u001b[0m \u001b[0;34m\u001b[0m\u001b[0m\n\u001b[0;32m--> 558\u001b[0;31m         \u001b[0m_main_loop\u001b[0m\u001b[0;34m(\u001b[0m\u001b[0;34m*\u001b[0m\u001b[0margs\u001b[0m\u001b[0;34m)\u001b[0m\u001b[0;34m\u001b[0m\u001b[0;34m\u001b[0m\u001b[0m\n\u001b[0m\u001b[1;32m    559\u001b[0m \u001b[0;34m\u001b[0m\u001b[0m\n\u001b[1;32m    560\u001b[0m \u001b[0;34m\u001b[0m\u001b[0m\n",
            "\u001b[0;32m/usr/local/lib/python3.10/dist-packages/flwr/simulation/run_simulation.py\u001b[0m in \u001b[0;36m_main_loop\u001b[0;34m(num_supernodes, backend_name, backend_config_stream, app_dir, is_app, enable_tf_gpu_growth, run, exit_event, delay_start, flwr_dir, client_app, client_app_attr, server_app, server_app_attr, server_app_run_config)\u001b[0m\n\u001b[1;32m    449\u001b[0m         \u001b[0mevent\u001b[0m\u001b[0;34m(\u001b[0m\u001b[0mexit_event\u001b[0m\u001b[0;34m,\u001b[0m \u001b[0mevent_details\u001b[0m\u001b[0;34m=\u001b[0m\u001b[0;34m{\u001b[0m\u001b[0;34m\"success\"\u001b[0m\u001b[0;34m:\u001b[0m \u001b[0msuccess\u001b[0m\u001b[0;34m}\u001b[0m\u001b[0;34m)\u001b[0m\u001b[0;34m\u001b[0m\u001b[0;34m\u001b[0m\u001b[0m\n\u001b[1;32m    450\u001b[0m         \u001b[0;32mif\u001b[0m \u001b[0mserverapp_th\u001b[0m\u001b[0;34m:\u001b[0m\u001b[0;34m\u001b[0m\u001b[0;34m\u001b[0m\u001b[0m\n\u001b[0;32m--> 451\u001b[0;31m             \u001b[0mserverapp_th\u001b[0m\u001b[0;34m.\u001b[0m\u001b[0mjoin\u001b[0m\u001b[0;34m(\u001b[0m\u001b[0;34m)\u001b[0m\u001b[0;34m\u001b[0m\u001b[0;34m\u001b[0m\u001b[0m\n\u001b[0m\u001b[1;32m    452\u001b[0m             \u001b[0;32mif\u001b[0m \u001b[0mserver_app_thread_has_exception\u001b[0m\u001b[0;34m.\u001b[0m\u001b[0mis_set\u001b[0m\u001b[0;34m(\u001b[0m\u001b[0;34m)\u001b[0m\u001b[0;34m:\u001b[0m\u001b[0;34m\u001b[0m\u001b[0;34m\u001b[0m\u001b[0m\n\u001b[1;32m    453\u001b[0m                 \u001b[0;32mraise\u001b[0m \u001b[0mRuntimeError\u001b[0m\u001b[0;34m(\u001b[0m\u001b[0;34m\"Exception in ServerApp thread\"\u001b[0m\u001b[0;34m)\u001b[0m\u001b[0;34m\u001b[0m\u001b[0;34m\u001b[0m\u001b[0m\n",
            "\u001b[0;32m/usr/lib/python3.10/threading.py\u001b[0m in \u001b[0;36mjoin\u001b[0;34m(self, timeout)\u001b[0m\n\u001b[1;32m   1094\u001b[0m \u001b[0;34m\u001b[0m\u001b[0m\n\u001b[1;32m   1095\u001b[0m         \u001b[0;32mif\u001b[0m \u001b[0mtimeout\u001b[0m \u001b[0;32mis\u001b[0m \u001b[0;32mNone\u001b[0m\u001b[0;34m:\u001b[0m\u001b[0;34m\u001b[0m\u001b[0;34m\u001b[0m\u001b[0m\n\u001b[0;32m-> 1096\u001b[0;31m             \u001b[0mself\u001b[0m\u001b[0;34m.\u001b[0m\u001b[0m_wait_for_tstate_lock\u001b[0m\u001b[0;34m(\u001b[0m\u001b[0;34m)\u001b[0m\u001b[0;34m\u001b[0m\u001b[0;34m\u001b[0m\u001b[0m\n\u001b[0m\u001b[1;32m   1097\u001b[0m         \u001b[0;32melse\u001b[0m\u001b[0;34m:\u001b[0m\u001b[0;34m\u001b[0m\u001b[0;34m\u001b[0m\u001b[0m\n\u001b[1;32m   1098\u001b[0m             \u001b[0;31m# the behavior of a negative timeout isn't documented, but\u001b[0m\u001b[0;34m\u001b[0m\u001b[0;34m\u001b[0m\u001b[0m\n",
            "\u001b[0;32m/usr/lib/python3.10/threading.py\u001b[0m in \u001b[0;36m_wait_for_tstate_lock\u001b[0;34m(self, block, timeout)\u001b[0m\n\u001b[1;32m   1114\u001b[0m \u001b[0;34m\u001b[0m\u001b[0m\n\u001b[1;32m   1115\u001b[0m         \u001b[0;32mtry\u001b[0m\u001b[0;34m:\u001b[0m\u001b[0;34m\u001b[0m\u001b[0;34m\u001b[0m\u001b[0m\n\u001b[0;32m-> 1116\u001b[0;31m             \u001b[0;32mif\u001b[0m \u001b[0mlock\u001b[0m\u001b[0;34m.\u001b[0m\u001b[0macquire\u001b[0m\u001b[0;34m(\u001b[0m\u001b[0mblock\u001b[0m\u001b[0;34m,\u001b[0m \u001b[0mtimeout\u001b[0m\u001b[0;34m)\u001b[0m\u001b[0;34m:\u001b[0m\u001b[0;34m\u001b[0m\u001b[0;34m\u001b[0m\u001b[0m\n\u001b[0m\u001b[1;32m   1117\u001b[0m                 \u001b[0mlock\u001b[0m\u001b[0;34m.\u001b[0m\u001b[0mrelease\u001b[0m\u001b[0;34m(\u001b[0m\u001b[0;34m)\u001b[0m\u001b[0;34m\u001b[0m\u001b[0;34m\u001b[0m\u001b[0m\n\u001b[1;32m   1118\u001b[0m                 \u001b[0mself\u001b[0m\u001b[0;34m.\u001b[0m\u001b[0m_stop\u001b[0m\u001b[0;34m(\u001b[0m\u001b[0;34m)\u001b[0m\u001b[0;34m\u001b[0m\u001b[0;34m\u001b[0m\u001b[0m\n",
            "\u001b[0;31mKeyboardInterrupt\u001b[0m: "
          ]
        }
      ]
    },
    {
      "cell_type": "code",
      "source": [],
      "metadata": {
        "id": "r7wXNAiHj2sg"
      },
      "execution_count": null,
      "outputs": []
    }
  ]
}